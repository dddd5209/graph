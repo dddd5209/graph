{
  "nbformat": 4,
  "nbformat_minor": 0,
  "metadata": {
    "kernelspec": {
      "display_name": "Python 3",
      "language": "python",
      "name": "python3"
    },
    "language_info": {
      "codemirror_mode": {
        "name": "ipython",
        "version": 3
      },
      "file_extension": ".py",
      "mimetype": "text/x-python",
      "name": "python",
      "nbconvert_exporter": "python",
      "pygments_lexer": "ipython3",
      "version": "3.8.8"
    },
    "org": null,
    "colab": {
      "name": "10-rnn.ipynb의 사본",
      "provenance": [],
      "include_colab_link": true
    }
  },
  "cells": [
    {
      "cell_type": "markdown",
      "metadata": {
        "id": "view-in-github",
        "colab_type": "text"
      },
      "source": [
        "<a href=\"https://colab.research.google.com/github/dddd5209/graph/blob/master/10_rnn_ipynb.ipynb\" target=\"_parent\"><img src=\"https://colab.research.google.com/assets/colab-badge.svg\" alt=\"Open In Colab\"/></a>"
      ]
    },
    {
      "cell_type": "markdown",
      "metadata": {
        "id": "wyWDkJm1WpK-"
      },
      "source": [
        "# Table of Contents\n",
        "\n",
        "- [RNN](#rnn)\n",
        "- [Exercises](#exercises)"
      ]
    },
    {
      "cell_type": "markdown",
      "metadata": {
        "id": "EMpApYbjWpK_"
      },
      "source": [
        "## Housekeeping\n",
        "\n"
      ]
    },
    {
      "cell_type": "markdown",
      "metadata": {
        "id": "g8bnD9L6WpK_"
      },
      "source": [
        "-   Some references I've been giving throughout the course\n",
        "    -   [Official pytorch tutorials](https://pytorch.org/tutorials/)\n",
        "        -   Example and exercise today comes from the pytorch tutorial on rnn\n",
        "    -   [Deep Learning Book, Ch.10 on RNN](https://www.deeplearningbook.org/contents/rnn.html)\n",
        "    -   [Dive Into Deep Learning Ch. 8, RNN](https://d2l.ai/chapter_recurrent-neural-networks/index.html)\n",
        "    -   [RNN chapter of Hands-On Machine Learning](https://learning.oreilly.com/library/view/hands-on-machine-learning/9781492032632/ch15.html#idm45728453105336)\n",
        "-   Today's url\n",
        "    -   https://git.io/ml2021-10\n",
        "-   Email if you need help!\n",
        "\n"
      ]
    },
    {
      "cell_type": "markdown",
      "metadata": {
        "id": "avzKJKKEWpK_"
      },
      "source": [
        "## Image Data Paradigm\n",
        "\n"
      ]
    },
    {
      "cell_type": "markdown",
      "metadata": {
        "id": "py19lBAsWpLA"
      },
      "source": [
        "-   So, until now, we've been thinking of data as some fixed point in\n",
        "    some vector space, that we are try to classify with a label\n",
        "-   An image is a $c \\times w \\times h$ sized vector, now generally c,\n",
        "    w, and h are fixed but w and h might be changed between different\n",
        "    images (depending on the camera used, have different resolutions)\n",
        "    -   With CNN global pooling layers can be used to have a network that\n",
        "        doesn't depend on a fixed size image\n",
        "-   Conceptually, each image is a single, independent unit\n",
        "-   But what about data that doesn't fit into this paradigm?\n",
        "    -   Variable sized datasets, where context is important, and continuously updated\n",
        "    -   Text: sentences can be variably lengthed, and the words I use\n",
        "        change the context, change the meaning\n",
        "    -   Video: self-driving cars need to find and anticipate the\n",
        "        trajectories of other cars and people\n",
        "\n"
      ]
    },
    {
      "cell_type": "markdown",
      "metadata": {
        "id": "MoVzT_y7WpLA"
      },
      "source": [
        "## Sequences\n",
        "\n"
      ]
    },
    {
      "cell_type": "markdown",
      "metadata": {
        "id": "E5i1K86cWpLA"
      },
      "source": [
        "-   We want to develop models that can operate on *sequences* of\n",
        "    arbitrary length in order to determine their output\n",
        "-   Can be a simple task: take a movie review and classify whether its\n",
        "    positive (the reviewer liked the movie) or negative (the reviewer\n",
        "    hated the movie)\n",
        "-   Slightly more complex: predict the next element of a time series,\n",
        "    say predict the movement of the price of a stock given the\n",
        "    historical data\n",
        "    -   This can also be: predict the next word given an input sentence,\n",
        "        this is all the text generators like GPT-2/3 are trained to do\n",
        "-   Very complex: take an input sentence and produce an audio file\n",
        "    imitating a person speaking that text, or take a sentence in one\n",
        "    language and produce a translation in another language\n",
        "    -   This is a sequence to sequence task, or seq2seq\n",
        "\n"
      ]
    },
    {
      "cell_type": "markdown",
      "metadata": {
        "id": "nXEPC8pMWpLB"
      },
      "source": [
        "## Recurrent Neurons <a id=\"rnn\" />\n",
        "\n"
      ]
    },
    {
      "cell_type": "markdown",
      "metadata": {
        "id": "ZALYRXf0WpLB"
      },
      "source": [
        "-   In order to be able to accomodate arbitrarily lengthed sequences, we\n",
        "    need to modify our layer a bit (today, think of fully-connected\n",
        "    layers)\n",
        "-   We break the data up into time steps (which could be real time steps\n",
        "    for stock prices or audio, or could be single word for text)\n",
        "\n"
      ]
    },
    {
      "cell_type": "code",
      "metadata": {
        "id": "x1B6Mus3WpLB",
        "outputId": "7aa5a347-d8f9-4ab6-8e66-52cfba1f659e"
      },
      "source": [
        "# http://d2l.ai/chapter_recurrent-neural-networks/rnn.html\n",
        "Image('rnn.png')"
      ],
      "execution_count": null,
      "outputs": [
        {
          "output_type": "execute_result",
          "data": {
            "image/png": "[encoded data removed]",
            "text/plain": [
              "<IPython.core.display.Image object>"
            ]
          },
          "metadata": {
            "tags": []
          },
          "execution_count": 4
        }
      ]
    },
    {
      "cell_type": "markdown",
      "metadata": {
        "id": "V3HaKFLQWpLB"
      },
      "source": [
        "-   For each timestep, we pass in the input as usual, but we will also\n",
        "    keep a *hidden state*, which also gets passed in\n",
        "-   We then also have two outputs, the output layer as for our regular\n",
        "    neurons, but also the *updated* hidden state, which can be passed in\n",
        "    as an input to the next time step\n",
        "    - As the hidden state occurs again in the computation, we call it a *recurrent* computation.\n",
        "    - From the free dictionary: recurrent, *adj.* 1. Occurring or appearing again or repeatedly.\n",
        "-   At the first timestep, we need to pass some hidden state, which we\n",
        "    usually take as just a 0 vector of the right size\n",
        "\n"
      ]
    },
    {
      "cell_type": "markdown",
      "metadata": {
        "id": "xO5GUV3LWpLC"
      },
      "source": [
        "## Unrolled in time\n",
        "\n"
      ]
    },
    {
      "cell_type": "code",
      "metadata": {
        "id": "OVMC4HLIWpLC",
        "outputId": "2314473c-bbf3-4d7d-e0ad-399e3f4b8846"
      },
      "source": [
        "# An rnn being trained to predict the next letter in a sequence\n",
        "Image('rnn-train.png')"
      ],
      "execution_count": null,
      "outputs": [
        {
          "output_type": "execute_result",
          "data": {
            "image/png": "[encoded data removed]",
            "text/plain": [
              "<IPython.core.display.Image object>"
            ]
          },
          "metadata": {
            "tags": []
          },
          "execution_count": 23
        }
      ]
    },
    {
      "cell_type": "markdown",
      "metadata": {
        "id": "8TuCdc5hWpLC"
      },
      "source": [
        "-   As we proceed through the sequence, the hidden state gets updated,\n",
        "    and the output should reflect the context of all the previous\n",
        "    datapoints in the sequence\n",
        "-   Mathematically: $\\mathbf{h_t} = \\phi(W_x \\mathbf{x_t} + W_h \\mathbf{h_{t-1}} + \\mathbf{b_h}) $\n",
        "    -   $\\phi$ is an activation function (e.g. tanh or ReLU), $W_x$\n",
        "        and $W_h$ are weight matrices to be learnt, $b_h$ is a bias\n",
        "        vector, $x_t$ is the input of time t, and\n",
        "        $h_t$ the hidden state\n",
        "    -   Note that the weight matrices are just short-hand ways of writing a *fully-connected layer*\n",
        "    -   So, you could think of it as, the current input $x_t$ and the previous hidden state $h_{t-1}$ get concatenated together and passed through a fully-connected layer and get output as the new output $y_t$ and the new hidden state $h_t$ which holds the updated context\n",
        "    -   If you're doing a task which requires processing a sequence to a single output, you can just ignore the intermediate states\n",
        "- We can create the output $y_t$ from the hidden state: $\\mathbf{y_t} = softmax(W_y \\mathbf{h_t} + \\mathbf{b_y})$\n",
        "  - Here, we're assuming a classification task, so passing through a softmax, if we had many layers, this could be replaced by a ReLU or tanh or so on"
      ]
    },
    {
      "cell_type": "markdown",
      "metadata": {
        "id": "h7A3P1tuWpLC"
      },
      "source": [
        "## RNN with One Hidden Layer\n",
        "\n"
      ]
    },
    {
      "cell_type": "markdown",
      "metadata": {
        "id": "Uhe_TSKeWpLD"
      },
      "source": [
        "![img](https://github.com/uos-computing-for-particle-physics/10-rnn-dddd5209/blob/master/rnn2n.png?raw=1)\n",
        "\n"
      ]
    },
    {
      "cell_type": "markdown",
      "metadata": {
        "id": "xQ1sdVeqWpLD"
      },
      "source": [
        "-   A recurrent neuron embedded in a single hidden layer neural network\n",
        "-   The output can be read out at any point in time (stock prediction, predict where a particle will go next),\n",
        "    or ignored until the end (movie review analysis, initial state particle properties from detector hits)\n",
        "-   When training, ordinary backpropagation starting from a loss applied\n",
        "    to the final softmax output will calculate the gradients through the\n",
        "    unrolled hidden connections\n",
        "    -   Pytorch is keeping track of the computational graph, the weights\n",
        "        will appear multiple times in the backpropagation\n",
        "\n"
      ]
    },
    {
      "cell_type": "markdown",
      "metadata": {
        "id": "tTJe-86DWpLD"
      },
      "source": [
        "## RNN with Two Hidden Layers\n",
        "\n"
      ]
    },
    {
      "cell_type": "markdown",
      "metadata": {
        "id": "66n-bO_jWpLD"
      },
      "source": [
        "![img](https://github.com/uos-computing-for-particle-physics/10-rnn-dddd5209/blob/master/rnn5nr.png?raw=1)\n",
        "\n"
      ]
    },
    {
      "cell_type": "markdown",
      "metadata": {
        "id": "3fmzliOKWpLE"
      },
      "source": [
        "-   Several recurrent layers can be connected together, the output of\n",
        "    each layer propagates through a single datapoint, the hidden state\n",
        "    propagates across time\n",
        "-   Notably, we see the hidden state of the first layer doesn't interact\n",
        "    at all with any data from the subsequent layers\n",
        "\n"
      ]
    },
    {
      "cell_type": "markdown",
      "metadata": {
        "id": "M8IZuxgIWpLE"
      },
      "source": [
        "## In PyTorch\n",
        "\n"
      ]
    },
    {
      "cell_type": "markdown",
      "metadata": {
        "id": "DJfgRMAyWpLE"
      },
      "source": [
        "-   The implementation in pytorch is rather straightfoward, we just need\n",
        "    to keep track of both the output and hidden state\n",
        "-   We also have a utility function the user can call to initially generate the hidden state\n",
        "\n"
      ]
    },
    {
      "cell_type": "code",
      "metadata": {
        "id": "BgcqgzyPWpLE"
      },
      "source": [
        "import torch.nn as nn\n",
        "class RNN(nn.Module):\n",
        "  def __init__(self, input_size, hidden_size, output_size):\n",
        "    super().__init__()\n",
        "    self.hidden_size = hidden_size\n",
        "    self.i2h = nn.Linear(input_size + hidden_size, hidden_size)\n",
        "    self.h2o = nn.Linear(hidden_size, output_size)\n",
        "  def forward(self, input, hidden):\n",
        "    combined = torch.cat((input, hidden), 1)\n",
        "    hidden = torch.tanh(self.i2h(combined))\n",
        "    output = self.h2o(hidden)\n",
        "    return output, hidden\n",
        "  def initHidden(self):\n",
        "    return torch.zeros(1, self.hidden_size)"
      ],
      "execution_count": null,
      "outputs": []
    },
    {
      "cell_type": "markdown",
      "metadata": {
        "id": "qg5_yfg9WpLE"
      },
      "source": [
        "## An example application: Names to Country of Origin\n",
        "\n"
      ]
    },
    {
      "cell_type": "markdown",
      "metadata": {
        "id": "iWU4-BeoWpLE"
      },
      "source": [
        "Let's download some data:"
      ]
    },
    {
      "cell_type": "code",
      "metadata": {
        "colab": {
          "base_uri": "https://localhost:8080/"
        },
        "id": "sf1ofyLJWpLE",
        "outputId": "57ff8588-5dda-4632-e889-15d2e1f8698e"
      },
      "source": [
        "!wget https://download.pytorch.org/tutorial/data.zip\n",
        "!unzip data.zip"
      ],
      "execution_count": null,
      "outputs": [
        {
          "output_type": "stream",
          "text": [
            "--2021-05-13 06:20:40--  https://download.pytorch.org/tutorial/data.zip\n",
            "Resolving download.pytorch.org (download.pytorch.org)... 13.227.211.25, 13.227.211.3, 13.227.211.45, ...\n",
            "Connecting to download.pytorch.org (download.pytorch.org)|13.227.211.25|:443... connected.\n",
            "HTTP request sent, awaiting response... 200 OK\n",
            "Length: 2882130 (2.7M) [application/zip]\n",
            "Saving to: ‘data.zip.2’\n",
            "\n",
            "\rdata.zip.2            0%[                    ]       0  --.-KB/s               \rdata.zip.2          100%[===================>]   2.75M  --.-KB/s    in 0.04s   \n",
            "\n",
            "2021-05-13 06:20:40 (62.4 MB/s) - ‘data.zip.2’ saved [2882130/2882130]\n",
            "\n",
            "Archive:  data.zip\n",
            "replace data/eng-fra.txt? [y]es, [n]o, [A]ll, [N]one, [r]ename: N\n"
          ],
          "name": "stdout"
        }
      ]
    },
    {
      "cell_type": "markdown",
      "metadata": {
        "id": "g2eFkjczWpLF"
      },
      "source": [
        "The data consists of files, each named for a country, and the file\n",
        "contents are lines of family names. We read the data and turn unicode\n",
        "characters (can represent all letters) into their ASCII equivalents\n",
        "(represents only basic english letters).\n",
        "\n"
      ]
    },
    {
      "cell_type": "code",
      "metadata": {
        "colab": {
          "base_uri": "https://localhost:8080/"
        },
        "id": "maKwOYoeWpLF",
        "outputId": "55b24786-d0f9-4e2e-ff8c-84d5963a99a2"
      },
      "source": [
        "import unicodedata\n",
        "import string\n",
        "from glob import glob\n",
        "files = glob(\"data/names/*.txt\")\n",
        "# restrict the letters we consider to ascii (plain english) only\n",
        "all_letters = string.ascii_letters+\" .,;'\"\n",
        "n_letters = len(all_letters)\n",
        "\n",
        "# helper function to convert unicode to ascii\n",
        "def unicodeToAscii(s):\n",
        "  return ''.join(c for c in unicodedata.normalize(\"NFD\", s)\n",
        "    if unicodedata.category(c) != \"Mn\" and c in all_letters)\n",
        "\n",
        "print(unicodeToAscii('Ślusàrski'))"
      ],
      "execution_count": null,
      "outputs": [
        {
          "output_type": "stream",
          "text": [
            "Slusarski\n"
          ],
          "name": "stdout"
        }
      ]
    },
    {
      "cell_type": "markdown",
      "metadata": {
        "id": "qK73TaZoWpLF"
      },
      "source": [
        "Next, we read the data from the files into a dictionary.\n",
        "\n"
      ]
    },
    {
      "cell_type": "code",
      "metadata": {
        "colab": {
          "base_uri": "https://localhost:8080/"
        },
        "id": "z240Nc-xWpLF",
        "outputId": "71e1dce1-2e21-4573-f43d-60b18bac3bd7"
      },
      "source": [
        "import os\n",
        "\n",
        "# holds a dictionary from language name -> list of names from that language\n",
        "category_lines = {}\n",
        "# list of all the languages we consider\n",
        "all_categories = []\n",
        "\n",
        "# read the list of names, process through our unicode->ascii function\n",
        "def readLines(filename):\n",
        "  lines = open(filename, encoding='utf-8').read().strip().split('\\n')\n",
        "  return [unicodeToAscii(line) for line in lines]\n",
        "\n",
        "# run the functions over all files\n",
        "for filename in files:\n",
        "  category = os.path.splitext(os.path.basename(filename))[0]\n",
        "  all_categories.append(category)\n",
        "  lines = readLines(filename)\n",
        "  category_lines[category] = lines\n",
        "\n",
        "# our output will be a vector n_categories long corresponding to \n",
        "# the network's assigned probability for each language\n",
        "n_categories = len(all_categories)\n",
        "print(n_categories, all_categories)\n",
        "print(category_lines['Korean'][:8])"
      ],
      "execution_count": null,
      "outputs": [
        {
          "output_type": "stream",
          "text": [
            "18 ['French', 'Irish', 'Greek', 'Russian', 'German', 'Czech', 'Spanish', 'Korean', 'Arabic', 'Scottish', 'Dutch', 'Portuguese', 'Japanese', 'Vietnamese', 'English', 'Italian', 'Polish', 'Chinese']\n",
            "['Ahn', 'Baik', 'Bang', 'Byon', 'Cha', 'Chang', 'Chi', 'Chin']\n"
          ],
          "name": "stdout"
        }
      ]
    },
    {
      "cell_type": "markdown",
      "metadata": {
        "id": "wiZ1cjMQWpLG"
      },
      "source": [
        "Now, we make some functions which turn the datapoints, which consists\n",
        "of strings of letters, into pytorch tensors. We have a one-hot\n",
        "encoding, so a name gets turned into a letter sequence, each letter is\n",
        "a vector where there is a 1 at the position representing the\n",
        "particular letter.\n",
        "\n",
        "Note that we are leaving open the possibility for batches, which are typically in the *second* position in RNNs for technical reasons, so you have an input tensor of `(sequence length, batch size, input size)`."
      ]
    },
    {
      "cell_type": "code",
      "metadata": {
        "colab": {
          "base_uri": "https://localhost:8080/"
        },
        "id": "oWdOlNImWpLG",
        "outputId": "b0991019-1d12-41dc-a3b7-f8af059f3cc6"
      },
      "source": [
        "import torch\n",
        "\n",
        "# the position we set to 1 is just the index of the letter in the all_letters array\n",
        "def letterToIndex(letter):\n",
        "  return all_letters.find(letter)\n",
        "\n",
        "# create a tensor shape (len(all_letters),) with the appropriate index on\n",
        "def letterToTensor(letter):\n",
        "  tensor = torch.zeros(1,n_letters)\n",
        "  tensor[0][letterToIndex(letter)] = 1\n",
        "  return tensor\n",
        "\n",
        "# create a tensor [len(word), 1=batch_size, len(all_letter)] and set each letter\n",
        "def lineToTensor(line):\n",
        "  tensor = torch.zeros(len(line), 1, n_letters)\n",
        "  for li, letter in enumerate(line):\n",
        "    tensor[li][0][letterToIndex(letter)] = 1\n",
        "  return tensor\n",
        "\n",
        "# test the functions\n",
        "print(letterToTensor('J'))\n",
        "print(lineToTensor(\"Jones\").shape)"
      ],
      "execution_count": null,
      "outputs": [
        {
          "output_type": "stream",
          "text": [
            "tensor([[0., 0., 0., 0., 0., 0., 0., 0., 0., 0., 0., 0., 0., 0., 0., 0., 0., 0.,\n",
            "         0., 0., 0., 0., 0., 0., 0., 0., 0., 0., 0., 0., 0., 0., 0., 0., 0., 1.,\n",
            "         0., 0., 0., 0., 0., 0., 0., 0., 0., 0., 0., 0., 0., 0., 0., 0., 0., 0.,\n",
            "         0., 0., 0.]])\n",
            "torch.Size([5, 1, 57])\n"
          ],
          "name": "stdout"
        }
      ]
    },
    {
      "cell_type": "markdown",
      "metadata": {
        "id": "t2j7XiVlWpLG"
      },
      "source": [
        "We can pass each letter tensor in the sequence through the RNN.\n",
        "\n"
      ]
    },
    {
      "cell_type": "code",
      "metadata": {
        "colab": {
          "base_uri": "https://localhost:8080/"
        },
        "id": "doqxsvmoWpLG",
        "outputId": "d051c4f7-973c-4bd5-8e59-8f339060d253"
      },
      "source": [
        "# create a tensor from a name, and pass the first letter through the rnn\n",
        "rnn=RNN(57,128,n_categories)\n",
        "input = lineToTensor(\"Albert\")\n",
        "hidden = rnn.initHidden()\n",
        "output, hidden = rnn(input[0], hidden)\n",
        "# if everything is working we should have some output\n",
        "print(output)"
      ],
      "execution_count": null,
      "outputs": [
        {
          "output_type": "stream",
          "text": [
            "tensor([[-0.0023,  0.1096, -0.0306, -0.0197, -0.0141, -0.0102, -0.0691,  0.0208,\n",
            "         -0.0648, -0.0753, -0.0842,  0.0354, -0.0359, -0.1478, -0.0173,  0.0201,\n",
            "         -0.0487,  0.0333]], grad_fn=<AddmmBackward>)\n"
          ],
          "name": "stdout"
        }
      ]
    },
    {
      "cell_type": "markdown",
      "metadata": {
        "id": "q6v-vW7wWpLG"
      },
      "source": [
        "Lets create some functions which will pick out a datapoint from our\n",
        "dictionary at random.\n",
        "\n"
      ]
    },
    {
      "cell_type": "code",
      "metadata": {
        "colab": {
          "base_uri": "https://localhost:8080/"
        },
        "id": "qhC_ZgpvWpLH",
        "outputId": "932a8e1b-6839-400e-edcc-c6b441b7cf82"
      },
      "source": [
        "import random\n",
        "\n",
        "# pick a random language, pick a random name from that language, \n",
        "# convert to a tensor, with corresponding output index for the language\n",
        "def randomTrainingExample():\n",
        "  category = random.choice(all_categories)\n",
        "  line = random.choice(category_lines[category])\n",
        "  category_tensor = torch.tensor([all_categories.index(category)], dtype=torch.long)\n",
        "  line_tensor = lineToTensor(line)\n",
        "  return category, line, category_tensor, line_tensor\n",
        "\n",
        "for i in range(10):\n",
        "  category, line, category_tensor, line_tensor = randomTrainingExample()\n",
        "  print('category =', category, '/ line =', line)"
      ],
      "execution_count": null,
      "outputs": [
        {
          "output_type": "stream",
          "text": [
            "category = Czech / line = Opova\n",
            "category = Irish / line = Conall\n",
            "category = Korean / line = Yang\n",
            "category = Japanese / line = Harada\n",
            "category = Russian / line = Shamota\n",
            "category = Polish / line = Dubicki\n",
            "category = Portuguese / line = Matos\n",
            "category = Arabic / line = Fakhoury\n",
            "category = Irish / line = Peatain\n",
            "category = German / line = Wedekind\n"
          ],
          "name": "stdout"
        }
      ]
    },
    {
      "cell_type": "markdown",
      "metadata": {
        "id": "f3BF6yXfWpLH"
      },
      "source": [
        "Here is\n",
        "a function to pass through and update the network on a single name.\n",
        "\n"
      ]
    },
    {
      "cell_type": "code",
      "metadata": {
        "id": "F3hmso-VWpLH"
      },
      "source": [
        "criterion = nn.CrossEntropyLoss()\n",
        "opt = torch.optim.Adam(rnn.parameters())\n",
        "\n",
        "def train(category_tensor, line_tensor):\n",
        "  opt.zero_grad()\n",
        "  hidden = rnn.initHidden()\n",
        "  # pass the tensor through one letter at a time, keeping track of the hidden state\n",
        "  for i in range(line_tensor.size()[0]):\n",
        "    output, hidden = rnn(line_tensor[i], hidden)\n",
        "  # calculate the loss on the final output\n",
        "  loss = criterion(output, category_tensor)\n",
        "  # pytorch keeps track of the computational graph, so will backpropagate \n",
        "  # through the hidden state updates\n",
        "  loss.backward()\n",
        "  # update the network based on the example\n",
        "  opt.step()\n",
        "  return output, loss.item()"
      ],
      "execution_count": null,
      "outputs": []
    },
    {
      "cell_type": "markdown",
      "metadata": {
        "id": "xF6f0CRYWpLH"
      },
      "source": [
        "And here is our training loop. We run 100,000 random examples,\n",
        "updating after each one, and keeping track of the average loss over\n",
        "every 1000 examples.\n",
        "\n"
      ]
    },
    {
      "cell_type": "code",
      "metadata": {
        "colab": {
          "base_uri": "https://localhost:8080/",
          "height": 405
        },
        "id": "yde5cCSgWpLH",
        "outputId": "50eb564c-bdea-4073-a555-b8210135eda0"
      },
      "source": [
        "import time\n",
        "import math\n",
        "\n",
        "n_iters = 100000\n",
        "print_every = 5000\n",
        "plot_every = 1000\n",
        "\n",
        "# Keep track of losses for plotting\n",
        "current_loss = 0\n",
        "all_losses = []\n",
        "\n",
        "def categoryFromOutput(output):\n",
        "    top_n, top_i = output.topk(1)\n",
        "    category_i = top_i[0].item()\n",
        "    return all_categories[category_i], category_i\n",
        "\n",
        "for iter in range(1, n_iters + 1):\n",
        "    category, line, category_tensor, line_tensor = randomTrainingExample()\n",
        "    output, loss = train(category_tensor, line_tensor)\n",
        "    current_loss += loss\n",
        "\n",
        "    # Print iter number, loss, name and guess\n",
        "    if iter % print_every == 0:\n",
        "        guess, guess_i = categoryFromOutput(output)\n",
        "        correct = '✓' if guess == category else '✗ (%s)' % category\n",
        "        print('%d %.4f %s / %s %s' % (iter, loss, line, guess, correct))\n",
        "\n",
        "    # Add current loss avg to list of losses\n",
        "    if iter % plot_every == 0:\n",
        "        all_losses.append(current_loss / plot_every)\n",
        "        current_loss = 0"
      ],
      "execution_count": null,
      "outputs": [
        {
          "output_type": "error",
          "ename": "KeyboardInterrupt",
          "evalue": "ignored",
          "traceback": [
            "\u001b[0;31m---------------------------------------------------------------------------\u001b[0m",
            "\u001b[0;31mKeyboardInterrupt\u001b[0m                         Traceback (most recent call last)",
            "\u001b[0;32m<ipython-input-84-b6ee8d36043c>\u001b[0m in \u001b[0;36m<module>\u001b[0;34m()\u001b[0m\n\u001b[1;32m     17\u001b[0m \u001b[0;32mfor\u001b[0m \u001b[0miter\u001b[0m \u001b[0;32min\u001b[0m \u001b[0mrange\u001b[0m\u001b[0;34m(\u001b[0m\u001b[0;36m1\u001b[0m\u001b[0;34m,\u001b[0m \u001b[0mn_iters\u001b[0m \u001b[0;34m+\u001b[0m \u001b[0;36m1\u001b[0m\u001b[0;34m)\u001b[0m\u001b[0;34m:\u001b[0m\u001b[0;34m\u001b[0m\u001b[0;34m\u001b[0m\u001b[0m\n\u001b[1;32m     18\u001b[0m     \u001b[0mcategory\u001b[0m\u001b[0;34m,\u001b[0m \u001b[0mline\u001b[0m\u001b[0;34m,\u001b[0m \u001b[0mcategory_tensor\u001b[0m\u001b[0;34m,\u001b[0m \u001b[0mline_tensor\u001b[0m \u001b[0;34m=\u001b[0m \u001b[0mrandomTrainingExample\u001b[0m\u001b[0;34m(\u001b[0m\u001b[0;34m)\u001b[0m\u001b[0;34m\u001b[0m\u001b[0;34m\u001b[0m\u001b[0m\n\u001b[0;32m---> 19\u001b[0;31m     \u001b[0moutput\u001b[0m\u001b[0;34m,\u001b[0m \u001b[0mloss\u001b[0m \u001b[0;34m=\u001b[0m \u001b[0mtrain\u001b[0m\u001b[0;34m(\u001b[0m\u001b[0mcategory_tensor\u001b[0m\u001b[0;34m,\u001b[0m \u001b[0mline_tensor\u001b[0m\u001b[0;34m)\u001b[0m\u001b[0;34m\u001b[0m\u001b[0;34m\u001b[0m\u001b[0m\n\u001b[0m\u001b[1;32m     20\u001b[0m     \u001b[0mcurrent_loss\u001b[0m \u001b[0;34m+=\u001b[0m \u001b[0mloss\u001b[0m\u001b[0;34m\u001b[0m\u001b[0;34m\u001b[0m\u001b[0m\n\u001b[1;32m     21\u001b[0m \u001b[0;34m\u001b[0m\u001b[0m\n",
            "\u001b[0;32m<ipython-input-81-e19f59e8c97f>\u001b[0m in \u001b[0;36mtrain\u001b[0;34m(category_tensor, line_tensor)\u001b[0m\n\u001b[1;32m     10\u001b[0m \u001b[0;34m\u001b[0m\u001b[0m\n\u001b[1;32m     11\u001b[0m   \u001b[0;32mfor\u001b[0m \u001b[0mi\u001b[0m \u001b[0;32min\u001b[0m \u001b[0mrange\u001b[0m\u001b[0;34m(\u001b[0m\u001b[0mline_tensor\u001b[0m\u001b[0;34m.\u001b[0m\u001b[0msize\u001b[0m\u001b[0;34m(\u001b[0m\u001b[0;34m)\u001b[0m\u001b[0;34m[\u001b[0m\u001b[0;36m0\u001b[0m\u001b[0;34m]\u001b[0m\u001b[0;34m)\u001b[0m\u001b[0;34m:\u001b[0m\u001b[0;34m\u001b[0m\u001b[0;34m\u001b[0m\u001b[0m\n\u001b[0;32m---> 12\u001b[0;31m     \u001b[0moutput1\u001b[0m\u001b[0;34m,\u001b[0m \u001b[0mhidden1\u001b[0m \u001b[0;34m=\u001b[0m \u001b[0mlayer1\u001b[0m\u001b[0;34m(\u001b[0m\u001b[0mline_tensor\u001b[0m\u001b[0;34m[\u001b[0m\u001b[0;36m0\u001b[0m\u001b[0;34m]\u001b[0m\u001b[0;34m,\u001b[0m \u001b[0mhidden1\u001b[0m\u001b[0;34m)\u001b[0m\u001b[0;34m\u001b[0m\u001b[0;34m\u001b[0m\u001b[0m\n\u001b[0m\u001b[1;32m     13\u001b[0m     \u001b[0moutput2\u001b[0m\u001b[0;34m,\u001b[0m \u001b[0mhidden2\u001b[0m \u001b[0;34m=\u001b[0m \u001b[0mlayer2\u001b[0m\u001b[0;34m(\u001b[0m\u001b[0moutput1\u001b[0m\u001b[0;34m,\u001b[0m \u001b[0mhidden2\u001b[0m\u001b[0;34m)\u001b[0m\u001b[0;34m\u001b[0m\u001b[0;34m\u001b[0m\u001b[0m\n\u001b[1;32m     14\u001b[0m \u001b[0;34m\u001b[0m\u001b[0m\n",
            "\u001b[0;32m/usr/local/lib/python3.7/dist-packages/torch/nn/modules/module.py\u001b[0m in \u001b[0;36m_call_impl\u001b[0;34m(self, *input, **kwargs)\u001b[0m\n\u001b[1;32m    887\u001b[0m             \u001b[0mresult\u001b[0m \u001b[0;34m=\u001b[0m \u001b[0mself\u001b[0m\u001b[0;34m.\u001b[0m\u001b[0m_slow_forward\u001b[0m\u001b[0;34m(\u001b[0m\u001b[0;34m*\u001b[0m\u001b[0minput\u001b[0m\u001b[0;34m,\u001b[0m \u001b[0;34m**\u001b[0m\u001b[0mkwargs\u001b[0m\u001b[0;34m)\u001b[0m\u001b[0;34m\u001b[0m\u001b[0;34m\u001b[0m\u001b[0m\n\u001b[1;32m    888\u001b[0m         \u001b[0;32melse\u001b[0m\u001b[0;34m:\u001b[0m\u001b[0;34m\u001b[0m\u001b[0;34m\u001b[0m\u001b[0m\n\u001b[0;32m--> 889\u001b[0;31m             \u001b[0mresult\u001b[0m \u001b[0;34m=\u001b[0m \u001b[0mself\u001b[0m\u001b[0;34m.\u001b[0m\u001b[0mforward\u001b[0m\u001b[0;34m(\u001b[0m\u001b[0;34m*\u001b[0m\u001b[0minput\u001b[0m\u001b[0;34m,\u001b[0m \u001b[0;34m**\u001b[0m\u001b[0mkwargs\u001b[0m\u001b[0;34m)\u001b[0m\u001b[0;34m\u001b[0m\u001b[0;34m\u001b[0m\u001b[0m\n\u001b[0m\u001b[1;32m    890\u001b[0m         for hook in itertools.chain(\n\u001b[1;32m    891\u001b[0m                 \u001b[0m_global_forward_hooks\u001b[0m\u001b[0;34m.\u001b[0m\u001b[0mvalues\u001b[0m\u001b[0;34m(\u001b[0m\u001b[0;34m)\u001b[0m\u001b[0;34m,\u001b[0m\u001b[0;34m\u001b[0m\u001b[0;34m\u001b[0m\u001b[0m\n",
            "\u001b[0;32m<ipython-input-53-b7954d3fe9ec>\u001b[0m in \u001b[0;36mforward\u001b[0;34m(self, input, hidden)\u001b[0m\n\u001b[1;32m      8\u001b[0m   \u001b[0;32mdef\u001b[0m \u001b[0mforward\u001b[0m\u001b[0;34m(\u001b[0m\u001b[0mself\u001b[0m\u001b[0;34m,\u001b[0m \u001b[0minput\u001b[0m\u001b[0;34m,\u001b[0m \u001b[0mhidden\u001b[0m\u001b[0;34m)\u001b[0m\u001b[0;34m:\u001b[0m\u001b[0;34m\u001b[0m\u001b[0;34m\u001b[0m\u001b[0m\n\u001b[1;32m      9\u001b[0m     \u001b[0mcombined\u001b[0m \u001b[0;34m=\u001b[0m \u001b[0mtorch\u001b[0m\u001b[0;34m.\u001b[0m\u001b[0mcat\u001b[0m\u001b[0;34m(\u001b[0m\u001b[0;34m(\u001b[0m\u001b[0minput\u001b[0m\u001b[0;34m,\u001b[0m \u001b[0mhidden\u001b[0m\u001b[0;34m)\u001b[0m\u001b[0;34m,\u001b[0m \u001b[0;36m1\u001b[0m\u001b[0;34m)\u001b[0m\u001b[0;34m\u001b[0m\u001b[0;34m\u001b[0m\u001b[0m\n\u001b[0;32m---> 10\u001b[0;31m     \u001b[0mhidden\u001b[0m \u001b[0;34m=\u001b[0m \u001b[0mtorch\u001b[0m\u001b[0;34m.\u001b[0m\u001b[0mtanh\u001b[0m\u001b[0;34m(\u001b[0m\u001b[0mself\u001b[0m\u001b[0;34m.\u001b[0m\u001b[0mi2h\u001b[0m\u001b[0;34m(\u001b[0m\u001b[0mcombined\u001b[0m\u001b[0;34m)\u001b[0m\u001b[0;34m)\u001b[0m\u001b[0;34m\u001b[0m\u001b[0;34m\u001b[0m\u001b[0m\n\u001b[0m\u001b[1;32m     11\u001b[0m     \u001b[0moutput\u001b[0m \u001b[0;34m=\u001b[0m \u001b[0mself\u001b[0m\u001b[0;34m.\u001b[0m\u001b[0mh2o\u001b[0m\u001b[0;34m(\u001b[0m\u001b[0mhidden\u001b[0m\u001b[0;34m)\u001b[0m\u001b[0;34m\u001b[0m\u001b[0;34m\u001b[0m\u001b[0m\n\u001b[1;32m     12\u001b[0m     \u001b[0;32mreturn\u001b[0m \u001b[0moutput\u001b[0m\u001b[0;34m,\u001b[0m \u001b[0mhidden\u001b[0m\u001b[0;34m\u001b[0m\u001b[0;34m\u001b[0m\u001b[0m\n",
            "\u001b[0;31mKeyboardInterrupt\u001b[0m: "
          ]
        }
      ]
    },
    {
      "cell_type": "markdown",
      "metadata": {
        "id": "xAtDYLh4WpLI"
      },
      "source": [
        "Plot the evolution of the loss.\n",
        "\n"
      ]
    },
    {
      "cell_type": "code",
      "metadata": {
        "colab": {
          "base_uri": "https://localhost:8080/",
          "height": 284
        },
        "id": "Jyt9hvf1WpLI",
        "outputId": "f2e23352-11c9-47fc-e7d9-89a273c6cda4"
      },
      "source": [
        "import matplotlib.pyplot as plt\n",
        "import matplotlib.ticker as ticker\n",
        "\n",
        "plt.figure()\n",
        "plt.plot(all_losses)"
      ],
      "execution_count": null,
      "outputs": [
        {
          "output_type": "execute_result",
          "data": {
            "text/plain": [
              "[<matplotlib.lines.Line2D at 0x7f1d51a47910>]"
            ]
          },
          "metadata": {
            "tags": []
          },
          "execution_count": 65
        },
        {
          "output_type": "display_data",
          "data": {
            "image/png": "[encoded data removed]",
            "text/plain": [
              "<Figure size 432x288 with 1 Axes>"
            ]
          },
          "metadata": {
            "tags": [],
            "needs_background": "light"
          }
        }
      ]
    },
    {
      "cell_type": "markdown",
      "metadata": {
        "id": "Hj2EFGdhWpLI"
      },
      "source": [
        "And output a confusion matrix, this takes 10,000 random examples, and\n",
        "plots a matrix going from the true label on one axis and the networks\n",
        "best guess for the label on the other. We can use this to see which\n",
        "categories the network is confusing. (Here, we see that the network\n",
        "often confuses Chinese and Korean names for instance).\n",
        "\n"
      ]
    },
    {
      "cell_type": "code",
      "metadata": {
        "colab": {
          "base_uri": "https://localhost:8080/",
          "height": 320
        },
        "id": "ueH9q_PgWpLI",
        "outputId": "4dedc831-d445-495e-972a-d0591f10d38e"
      },
      "source": [
        "# Keep track of correct guesses in a confusion matrix\n",
        "confusion = torch.zeros(n_categories, n_categories)\n",
        "n_confusion = 10000\n",
        "\n",
        "# Just return an output given a line\n",
        "def evaluate(line_tensor):\n",
        "    hidden = rnn.initHidden()\n",
        "\n",
        "    for i in range(line_tensor.size()[0]):\n",
        "        output, hidden = rnn(line_tensor[i], hidden)\n",
        "\n",
        "    return output\n",
        "\n",
        "# Go through a bunch of examples and record which are correctly guessed\n",
        "for i in range(n_confusion):\n",
        "    category, line, category_tensor, line_tensor = randomTrainingExample()\n",
        "    output = evaluate(line_tensor)\n",
        "    guess, guess_i = categoryFromOutput(output)\n",
        "    category_i = all_categories.index(category)\n",
        "    confusion[category_i][guess_i] += 1\n",
        "\n",
        "# Normalize by dividing every row by its sum\n",
        "for i in range(n_categories):\n",
        "    confusion[i] = confusion[i] / confusion[i].sum()\n",
        "\n",
        "# Set up plot\n",
        "fig = plt.figure()\n",
        "ax = fig.add_subplot(111)\n",
        "cax = ax.matshow(confusion.numpy())\n",
        "fig.colorbar(cax)\n",
        "\n",
        "# Set up axes\n",
        "ax.set_xticklabels([''] + all_categories, rotation=90)\n",
        "ax.set_yticklabels([''] + all_categories)\n",
        "\n",
        "# Force label at every tick\n",
        "ax.xaxis.set_major_locator(ticker.MultipleLocator(1))\n",
        "ax.yaxis.set_major_locator(ticker.MultipleLocator(1))\n",
        "\n",
        "# sphinx_gallery_thumbnail_number = 2\n",
        "plt.show()"
      ],
      "execution_count": null,
      "outputs": [
        {
          "output_type": "display_data",
          "data": {
            "image/png": "[encoded data removed]",
            "text/plain": [
              "<Figure size 432x288 with 2 Axes>"
            ]
          },
          "metadata": {
            "tags": [],
            "needs_background": "light"
          }
        }
      ]
    },
    {
      "cell_type": "markdown",
      "metadata": {
        "id": "A4ZJLl8oWpLI"
      },
      "source": [
        "And some examples showing predictions of the network for a few\n",
        "different names (using softmax to turn the output to prob.). Show the assigned probability for the\n",
        "n<sub>predictions</sub> languages with the highest probability.\n",
        "\n"
      ]
    },
    {
      "cell_type": "code",
      "metadata": {
        "colab": {
          "base_uri": "https://localhost:8080/"
        },
        "id": "dwh5wkHWWpLI",
        "outputId": "959981e6-b49a-467d-cf36-8e6fa975e2d0"
      },
      "source": [
        "def predict(input_line, n_predictions=3):\n",
        "    print('\\n> %s' % input_line)\n",
        "    with torch.no_grad():\n",
        "        output = torch.softmax(evaluate(lineToTensor(input_line)),1)\n",
        "\n",
        "        # Get top N categories\n",
        "        topv, topi = output.topk(n_predictions, 1, True)\n",
        "        predictions = []\n",
        "\n",
        "        for i in range(n_predictions):\n",
        "            value = topv[0][i].item()\n",
        "            category_index = topi[0][i].item()\n",
        "            print('(%.3f) %s' % (value, all_categories[category_index]))\n",
        "            predictions.append([value, all_categories[category_index]])\n",
        "\n",
        "predict('Dovesky')\n",
        "predict('Jackson')\n",
        "predict('Satoshi')"
      ],
      "execution_count": null,
      "outputs": [
        {
          "output_type": "stream",
          "text": [
            "\n",
            "> Dovesky\n",
            "(0.948) Russian\n",
            "(0.039) Czech\n",
            "(0.005) Polish\n",
            "\n",
            "> Jackson\n",
            "(0.991) Scottish\n",
            "(0.005) English\n",
            "(0.002) Russian\n",
            "\n",
            "> Satoshi\n",
            "(0.691) Arabic\n",
            "(0.190) Japanese\n",
            "(0.059) Portuguese\n"
          ],
          "name": "stdout"
        }
      ]
    },
    {
      "cell_type": "markdown",
      "metadata": {
        "id": "7jwLO0UwWpLJ"
      },
      "source": [
        "# Exercises <a id=\"exercises\" />"
      ]
    },
    {
      "cell_type": "markdown",
      "metadata": {
        "id": "GVvXV6ubWpLJ"
      },
      "source": [
        "Take the single hidden layer example shown in the lecture, and use it\n",
        "as a starting point to create a two-layer recurrent neural network as\n",
        "shown on page 8 of the lecture slides.\n",
        "\n",
        "You should think about how to structure the hidden state output, conceptually, the two layers act like 2 independent RNNs where the output of the first feeds into the input of the second, as shown here:"
      ]
    },
    {
      "cell_type": "code",
      "metadata": {
        "colab": {
          "base_uri": "https://localhost:8080/"
        },
        "id": "_w_CPdqRWpLJ",
        "outputId": "0f4c3d6b-3b04-490c-c36e-b96394332b56"
      },
      "source": [
        "layer1 = RNN(57,128,512) # input_size, hidden_size, output_size\n",
        "layer2 = RNN(512,128,n_categories)\n",
        "\n",
        "hidden1 = layer1.initHidden()\n",
        "hidden2 = layer2.initHidden()\n",
        "\n",
        "output1, hidden1 = layer1(line_tensor[0], hidden1)\n",
        "output2, hidden2 = layer2(output1, hidden2)\n",
        "output2"
      ],
      "execution_count": null,
      "outputs": [
        {
          "output_type": "execute_result",
          "data": {
            "text/plain": [
              "tensor([[ 0.0852,  0.0439, -0.0015,  0.0350, -0.0478,  0.1090,  0.0744, -0.0531,\n",
              "         -0.0305,  0.0104,  0.0484,  0.0242,  0.0321,  0.0653,  0.0322,  0.0211,\n",
              "         -0.0946, -0.0257]], grad_fn=<AddmmBackward>)"
            ]
          },
          "metadata": {
            "tags": []
          },
          "execution_count": 68
        }
      ]
    },
    {
      "cell_type": "markdown",
      "metadata": {
        "id": "pKSk7t6JWpLJ"
      },
      "source": [
        "One difference that your network should have compared to this would be that `output1` should be passed through an activation function, such as ReLU before going to the second layer in your network, whereas the above passes it through un-activated.\n",
        "\n",
        "When you make your network, the hidden state should be give back the hidden state for both layers, so you should be able to write the hidden state initialization and network update like:\n",
        "```\n",
        "hidden = RNN2Layers.initHidden()\n",
        "output, hidden = RNN2Layers(input, hidden)\n",
        "```"
      ]
    },
    {
      "cell_type": "code",
      "metadata": {
        "id": "WluAzX3jXS6P"
      },
      "source": [
        "params=[*layer1.parameters(),*layer2.parameters()]"
      ],
      "execution_count": null,
      "outputs": []
    },
    {
      "cell_type": "code",
      "metadata": {
        "id": "G_tDjvEqWpLK"
      },
      "source": [
        "criterion = nn.CrossEntropyLoss()\n",
        "opt1 = torch.optim.Adam(layer1.parameters())\n",
        "opt2 = torch.optim.Adam(layer2.parameters())\n",
        "\n",
        "def train(category_tensor, line_tensor):\n",
        "  opt1.zero_grad()\n",
        "  opt2.zero_grad()\n",
        "  hidden1 = layer1.initHidden()\n",
        "  hidden2 = layer2.initHidden()  \n",
        "\n",
        "  for i in range(line_tensor.size()[0]):\n",
        "    output1, hidden1 = layer1(line_tensor[0], hidden1)\n",
        "    output2, hidden2 = layer2(output1, hidden2)\n",
        "\n",
        "  loss = criterion(output2, category_tensor)\n",
        "  loss.backward()\n",
        "\n",
        "  opt1.step()\n",
        "  opt2.step()\n",
        "  return output2, loss.item()"
      ],
      "execution_count": null,
      "outputs": []
    },
    {
      "cell_type": "markdown",
      "metadata": {
        "id": "3o0hoKtBWpLK"
      },
      "source": [
        "Train the network on the name to country dataset.\n",
        "\n"
      ]
    },
    {
      "cell_type": "code",
      "metadata": {
        "colab": {
          "base_uri": "https://localhost:8080/"
        },
        "id": "Z0moaHNhWpLK",
        "outputId": "419d5c81-888f-4d17-81f9-ff7cea61acf9"
      },
      "source": [
        "import time\n",
        "import math\n",
        "\n",
        "n_iters = 1000000\n",
        "print_every = 50000\n",
        "plot_every = 10000\n",
        "\n",
        "# Keep track of losses for plotting\n",
        "current_loss = 0\n",
        "all_losses = []\n",
        "\n",
        "def categoryFromOutput(output):\n",
        "    top_n, top_i = output.topk(1)\n",
        "    category_i = top_i[0].item()\n",
        "    return all_categories[category_i], category_i\n",
        "\n",
        "for iter in range(1, n_iters + 1):\n",
        "    category, line, category_tensor, line_tensor = randomTrainingExample()\n",
        "    output, loss = train(category_tensor, line_tensor)\n",
        "    current_loss += loss\n",
        "\n",
        "    if iter % print_every == 0:\n",
        "        guess, guess_i = categoryFromOutput(output)\n",
        "        correct = '✓' if guess == category else '✗ (%s)' % category\n",
        "        print('%d %.4f %s / %s %s' % (iter, loss, line, guess, correct))\n",
        "\n",
        "    if iter % plot_every == 0:\n",
        "        all_losses.append(current_loss / plot_every)\n",
        "        current_loss = 0"
      ],
      "execution_count": null,
      "outputs": [
        {
          "output_type": "stream",
          "text": [
            "50000 2.2132 Araullo / Japanese ✗ (Portuguese)\n",
            "100000 2.7224 Yano / Arabic ✗ (Japanese)\n",
            "150000 2.6829 Plamondon / German ✗ (French)\n",
            "200000 2.8477 Cathan / German ✗ (Irish)\n",
            "250000 2.3382 Onohara / French ✗ (Japanese)\n",
            "300000 3.7141 Botros / Irish ✗ (Arabic)\n",
            "350000 3.4921 Melo / Vietnamese ✗ (Portuguese)\n",
            "400000 1.7713 Silva / Polish ✗ (Portuguese)\n",
            "450000 2.6327 Flynn / Polish ✗ (English)\n",
            "500000 2.8449 Thomson / Greek ✗ (Scottish)\n",
            "550000 2.0158 Montanari / Italian ✓\n",
            "600000 3.4308 Bader / German ✗ (Russian)\n",
            "650000 0.4513 Mo / Korean ✓\n",
            "700000 2.4500 Desrochers / Russian ✗ (French)\n",
            "750000 3.3752 Machacek / Dutch ✗ (Czech)\n",
            "800000 1.9432 Baglanoff / Japanese ✗ (Russian)\n",
            "850000 2.8328 Hitomi / Spanish ✗ (Japanese)\n",
            "900000 1.7487 Yasujiro / Japanese ✓\n",
            "950000 2.2207 Esteves / Spanish ✗ (Portuguese)\n",
            "1000000 2.5003 Najjar / English ✗ (Arabic)\n"
          ],
          "name": "stdout"
        }
      ]
    },
    {
      "cell_type": "markdown",
      "metadata": {
        "id": "AKIEEVS_WpLK"
      },
      "source": [
        "Draw the confusion matrix for your two-layer hidden network.\n",
        "\n"
      ]
    },
    {
      "cell_type": "code",
      "metadata": {
        "colab": {
          "base_uri": "https://localhost:8080/",
          "height": 320
        },
        "id": "POp-st_pWpLK",
        "outputId": "831ef6cd-e93b-4f3d-9865-7aea99359e98"
      },
      "source": [
        "confusion = torch.zeros(n_categories, n_categories)\n",
        "n_confusion = 10000\n",
        "\n",
        "def evaluate(line_tensor):\n",
        "    hidden1 = layer1.initHidden()\n",
        "    hidden2 = layer2.initHidden()  \n",
        "    for i in range(line_tensor.size()[0]):\n",
        "        output1, hidden1 = layer1(line_tensor[i], hidden1)\n",
        "        output2, hidden2 = layer2(output1, hidden2)\n",
        "\n",
        "    return output2\n",
        "\n",
        "for i in range(n_confusion):\n",
        "    category, line, category_tensor, line_tensor = randomTrainingExample()\n",
        "    output = evaluate(line_tensor)\n",
        "    guess, guess_i = categoryFromOutput(output)\n",
        "    category_i = all_categories.index(category)\n",
        "    confusion[category_i][guess_i] += 1\n",
        "\n",
        "for i in range(n_categories):\n",
        "    confusion[i] = confusion[i] / confusion[i].sum()\n",
        "\n",
        "fig = plt.figure()\n",
        "ax = fig.add_subplot(111)\n",
        "cax = ax.matshow(confusion.numpy())\n",
        "fig.colorbar(cax)\n",
        "\n",
        "ax.set_xticklabels([''] + all_categories, rotation=90)\n",
        "ax.set_yticklabels([''] + all_categories)\n",
        "\n",
        "ax.xaxis.set_major_locator(ticker.MultipleLocator(1))\n",
        "ax.yaxis.set_major_locator(ticker.MultipleLocator(1))\n",
        "\n",
        "plt.show()"
      ],
      "execution_count": null,
      "outputs": [
        {
          "output_type": "display_data",
          "data": {
            "image/png": "[encoded data removed]",
            "text/plain": [
              "<Figure size 432x288 with 2 Axes>"
            ]
          },
          "metadata": {
            "tags": [],
            "needs_background": "light"
          }
        }
      ]
    },
    {
      "cell_type": "code",
      "metadata": {
        "id": "I6oqfR6OvQPY"
      },
      "source": [
        ""
      ],
      "execution_count": null,
      "outputs": []
    }
  ]
}